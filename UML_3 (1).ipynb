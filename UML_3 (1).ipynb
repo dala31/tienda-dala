{
  "nbformat": 4,
  "nbformat_minor": 0,
  "metadata": {
    "colab": {
      "provenance": []
    },
    "kernelspec": {
      "name": "python3",
      "display_name": "Python 3"
    },
    "language_info": {
      "name": "python"
    }
  },
  "cells": [
    {
      "cell_type": "markdown",
      "source": [
        "**Sistema de Gestión de Tienda**\n",
        "\n",
        "Clases:\n",
        "\n",
        "    Producto\n",
        "    Cliente\n",
        "    Orden\n",
        "    ItemOrden\n",
        "    Categoria\n",
        "    Tienda\n",
        "\n",
        "Relaciones:\n",
        "\n",
        "    Un Producto pertenece a una Categoria.\n",
        "    Un Cliente puede realizar múltiples Ordenes.\n",
        "    Una Orden contiene múltiples ItemOrden.\n",
        "    Cada ItemOrden está asociado a un Producto.\n",
        "    La Tienda administra Productos, Clientes, Ordenes y Categorias.\n",
        "\n",
        "Atributos y Métodos:\n",
        "\n",
        "    Producto:\n",
        "        Atributos: nombre, precio, categoria\n",
        "        Métodos: mostrar_info()\n",
        "    Cliente:\n",
        "        Atributos: nombre, apellido, id_cliente\n",
        "        Métodos: mostrar_info()\n",
        "    Orden:\n",
        "        Atributos: cliente, items, total\n",
        "        Métodos: agregar_item(), calcular_total()\n",
        "    ItemOrden:\n",
        "        Atributos: producto, cantidad\n",
        "        Métodos: calcular_subtotal()\n",
        "    Categoria:\n",
        "        Atributos: nombre\n",
        "        Métodos: mostrar_info()\n",
        "    Tienda:\n",
        "        Atributos: productos, clientes, ordenes, categorias\n",
        "        Métodos: registrar_producto(), registrar_cliente(), crear_orden(), mostrar_productos()"
      ],
      "metadata": {
        "id": "t9qC0uQgdUTt"
      }
    },
    {
      "cell_type": "code",
      "source": [],
      "metadata": {
        "id": "wL8Z3YuPdWTE"
      },
      "execution_count": null,
      "outputs": []
    }
  ]
}